{
 "cells": [
  {
   "cell_type": "code",
   "execution_count": 35,
   "metadata": {
    "collapsed": true
   },
   "outputs": [],
   "source": [
    "#import mechanize\n",
    "from bs4 import BeautifulSoup\n",
    "import http\n",
    "import pandas as pd\n",
    "#!pip install selenium\n",
    "from IPython.display import display, HTML\n",
    "import time\n",
    "from selenium import webdriver\n",
    "from selenium.webdriver.common.keys import Keys\n",
    "from selenium.webdriver.support.ui import WebDriverWait\n",
    "from selenium.webdriver.support import expected_conditions as EC\n",
    "from selenium.webdriver.common.by import By\n",
    "from selenium.common.exceptions import TimeoutException\n"
   ]
  },
  {
   "cell_type": "code",
   "execution_count": 38,
   "outputs": [],
   "source": [
    "url = 'https://www.booking.com/searchresults.html?label=gen173nr-1FCAEoggI46AdIM1gEaGqIAQGYATG4AQfIAQzYAQHoAQH4AQKIAgGoAgO4AvTfm54GwAIB0gIkYWViNzc0NzQtMjVlZi00YWU5LThjMGItNmU3N2MzMzBkYTU02AIF4AIB&sid=b4c0b906d58aea0886867677683da881&sb=1&sb_lp=1&src=index&src_elem=sb&error_url=https%3A%2F%2Fwww.booking.com%2Findex.html%3Flabel%3Dgen173nr-1FCAEoggI46AdIM1gEaGqIAQGYATG4AQfIAQzYAQHoAQH4AQKIAgGoAgO4AvTfm54GwAIB0gIkYWViNzc0NzQtMjVlZi00YWU5LThjMGItNmU3N2MzMzBkYTU02AIF4AIB%26sid%3Db4c0b906d58aea0886867677683da881%26sb_price_type%3Dtotal%26%26&ss=New+York%2C+New+York+State%2C+United+States&is_ski_area=&checkin_year=2023&checkin_month=1&checkin_monthday=17&checkout_year=2023&checkout_month=1&checkout_monthday=18&flex_window=0&efdco=1&group_adults=2&group_children=0&no_rooms=1&b_h4u_keep_filters=&from_sf=1&ss_raw=nyc&ac_position=0&ac_langcode=en&ac_click_type=b&ac_meta=GhBmNWY0ODU3YWViZmYwMGVkIAAoATICZW46A255Y0AASgBQAA%3D%3D&dest_id=20088325&dest_type=city&iata=NYC&place_id_lat=40.768074&place_id_lon=-73.981895&search_pageview_id=f5f4857aebff00ed&search_selected=true&search_pageview_id=f5f4857aebff00ed&ac_suggestion_list_length=5&ac_suggestion_theme_list_length=0'"
   ],
   "metadata": {
    "collapsed": false
   }
  },
  {
   "cell_type": "code",
   "execution_count": 43,
   "outputs": [],
   "source": [
    "driver = webdriver.Chrome()\n",
    "driver.get(url)"
   ],
   "metadata": {
    "collapsed": false
   }
  },
  {
   "cell_type": "code",
   "execution_count": 49,
   "outputs": [
    {
     "data": {
      "text/plain": "1"
     },
     "execution_count": 49,
     "metadata": {},
     "output_type": "execute_result"
    }
   ],
   "source": [
    "len(driver.find_elements(By.XPATH,'//*[@id=\"search_results_table\"]/div[2]/div/div/div/div[4]/div[2]/div[1]/div[2]/div/div[1]/div[1]/div/div[1]/div/h3'))"
   ],
   "metadata": {
    "collapsed": false
   }
  },
  {
   "cell_type": "code",
   "execution_count": 50,
   "outputs": [
    {
     "data": {
      "text/plain": "[<selenium.webdriver.remote.webelement.WebElement (session=\"3cd26e8bc487c56462e0a0d13b9f9848\", element=\"77b3646e-8009-48e0-a0b0-cdf01e664146\")>]"
     },
     "execution_count": 50,
     "metadata": {},
     "output_type": "execute_result"
    }
   ],
   "source": [
    "driver.find_elements(By.XPATH,'//*[@id=\"search_results_table\"]/div[2]/div/div/div/div[4]/div[2]/div[1]/div[2]/div/div[1]/div[1]/div/div[1]/div/h3')"
   ],
   "metadata": {
    "collapsed": false
   }
  },
  {
   "cell_type": "code",
   "execution_count": null,
   "outputs": [],
   "source": [],
   "metadata": {
    "collapsed": false
   }
  }
 ],
 "metadata": {
  "kernelspec": {
   "display_name": "Python 3",
   "language": "python",
   "name": "python3"
  },
  "language_info": {
   "codemirror_mode": {
    "name": "ipython",
    "version": 2
   },
   "file_extension": ".py",
   "mimetype": "text/x-python",
   "name": "python",
   "nbconvert_exporter": "python",
   "pygments_lexer": "ipython2",
   "version": "2.7.6"
  }
 },
 "nbformat": 4,
 "nbformat_minor": 0
}
